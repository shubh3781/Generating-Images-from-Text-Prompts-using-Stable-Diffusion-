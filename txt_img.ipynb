{
 "cells": [
  {
   "cell_type": "markdown",
   "id": "d7f9bdfc-8530-47a8-9255-cc9bce1b3191",
   "metadata": {},
   "source": [
    "# Generating Images from Text Prompts using Stable Diffusion\n",
    "\n",
    "##  Introduction\n",
    "### This notebook demonstrates the process of generating images from text prompts using a pre-trained Stable Diffusion model from the Hugging Face `diffusers` library. We'll use a pre-built model to transform natural language prompts into corresponding images."
   ]
  },
  {
   "cell_type": "markdown",
   "id": "a8c848cc-9c8b-445d-8e11-20c0bf15b2e5",
   "metadata": {},
   "source": [
    "###  Step 1: Setup and Importing Libraries\n",
    "#### Let's import the necessary libraries and set up the model."
   ]
  },
  {
   "cell_type": "code",
   "execution_count": null,
   "id": "d625ff41-32f7-4d85-a4a5-2a7de8f1e047",
   "metadata": {},
   "outputs": [],
   "source": [
    "# Importing necessary libraries\n",
    "from diffusers import StableDiffusionPipeline\n",
    "import torch\n",
    "from PIL import Image"
   ]
  },
  {
   "cell_type": "code",
   "execution_count": null,
   "id": "71d26633-86cf-4587-84e4-0f11a0cb4769",
   "metadata": {},
   "outputs": [],
   "source": [
    "# Model ID and device setup\n",
    "model_id = \"CompVis/stable-diffusion-v1-4\"\n",
    "device = \"cuda\" if torch.cuda.is_available() else \"cpu\"\n",
    "\n",
    "# Loading the model\n",
    "pipe = StableDiffusionPipeline.from_pretrained(model_id, torch_dtype=torch.float16)\n",
    "pipe = pipe.to(device)"
   ]
  },
  {
   "cell_type": "markdown",
   "id": "9ed8de30-025c-4528-a8a9-97ccef939934",
   "metadata": {},
   "source": [
    "### Step 2: Defining the Image Generation Function\n",
    "#### This function accepts a text prompt and generates an image based on the given input. The model is set to avoid gradient computation (`torch.no_grad`) to save memory and improve efficiency."
   ]
  },
  {
   "cell_type": "code",
   "execution_count": 4,
   "id": "660ed95c-568f-42ee-a59a-d2e9e5536ecb",
   "metadata": {},
   "outputs": [],
   "source": [
    "# Define a function to generate an image from a text prompt\n",
    "def generate_image(prompt):\n",
    "    # Generate the image\n",
    "    with torch.no_grad():\n",
    "        image = model(prompt).images[0]\n",
    "\n",
    "    return image"
   ]
  },
  {
   "cell_type": "markdown",
   "id": "7767f864-f2a8-4d7a-b02f-03c3f3875be3",
   "metadata": {},
   "source": [
    "### Step 3: Testing the Function\n",
    "#### Here, we test our `generate_image` function with a sample prompt."
   ]
  },
  {
   "cell_type": "code",
   "execution_count": null,
   "id": "f782bd5e-e316-473d-99b6-3a506ecbd4bb",
   "metadata": {},
   "outputs": [],
   "source": [
    "# Test the function\n",
    "prompt = \"sunset on beach.\"\n",
    "image = generate_image(prompt)\n"
   ]
  },
  {
   "cell_type": "markdown",
   "id": "da54c216-5244-4ee7-b6c1-6e62f96cce86",
   "metadata": {},
   "source": [
    "### Step 4: Saving the Image\n",
    "#### Finally, let's save the generated image to a file."
   ]
  },
  {
   "cell_type": "code",
   "execution_count": null,
   "id": "0166bc06-b824-4fc7-b5c6-345cb91703ba",
   "metadata": {},
   "outputs": [],
   "source": [
    "#Saving Image\n",
    "image.save(\"sunset_on_beach.png\")"
   ]
  },
  {
   "cell_type": "markdown",
   "id": "77f935cf-86f3-4804-a627-cc4fdfe50a7c",
   "metadata": {},
   "source": [
    "## Conclusion\n",
    "### In this notebook, we've successfully demonstrated how to load and use a pre-trained Stable Diffusion model to generate images from text prompts. The model allows users to easily transform textual descriptions into visual representations, making it a powerful tool for various creative and practical applications.\n"
   ]
  },
  {
   "cell_type": "code",
   "execution_count": null,
   "id": "9e2f37f5-495f-44de-9c08-f1ad9d9b1866",
   "metadata": {},
   "outputs": [],
   "source": []
  }
 ],
 "metadata": {
  "kernelspec": {
   "display_name": "Python 3 (ipykernel)",
   "language": "python",
   "name": "python3"
  },
  "language_info": {
   "codemirror_mode": {
    "name": "ipython",
    "version": 3
   },
   "file_extension": ".py",
   "mimetype": "text/x-python",
   "name": "python",
   "nbconvert_exporter": "python",
   "pygments_lexer": "ipython3",
   "version": "3.9.13"
  }
 },
 "nbformat": 4,
 "nbformat_minor": 5
}
